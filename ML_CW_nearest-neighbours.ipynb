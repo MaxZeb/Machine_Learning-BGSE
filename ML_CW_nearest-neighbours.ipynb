{
  "cells": [
    {
      "cell_type": "markdown",
      "source": [
        "# Machine Learning Simulation Coursework - kNN\n",
        "Maximilian Zebhauser"
      ],
      "metadata": {}
    },
    {
      "cell_type": "markdown",
      "source": [
        "### Tasks: \n",
        "\n",
        "Coinsider a binary classification problem in which X takes values in \n",
        "$R^d$ and $Y \\in {0, 1}$. The joint distribution is such that X is uniformly \n",
        "distributed in $ [0, 1]^d $ and $P\\{Y = 1|X = x\\} = x(1)$ \n",
        "(where x(1) is the first component of x = (x(1), . . . , x(d)).\n",
        "\n",
        "Compute $R^{*}$,$R_{1-N N}$, and $R_{3-N N}$ (i.e., the Bayes risk and the asymptotic risk of the 1-, \n",
        "and 3-nearest neighbor rules). How do these quantities depend on the dimension d?\n",
        "\n",
        "Write a program that generates training data of n i.i.d. pairs \n",
        "$ D_{n}=\\left\\{\\left(X_{1}, Y_{1}\\right), \\ldots,\\left(X_{n}, Y_{n}\\right)\\right\\} $\n",
        "of random variables distributed as described above.\n",
        "\n",
        "Classify X using the 1, 3, 5, 7, 9-nearest neighbor rules. Re-draw (X, Y ) many times \n",
        "so that you can estimate the risk of these rules. Try this for various values of n and \n",
        "d and plot the estimated risk. Explain what you observe.\n",
        "\n",
        "Now consider the classification rule that uses an additional set of m independent data \n",
        "$ D_{m}^{\\prime}= \\left\\{\\left(X_{1}^{\\prime}, Y_{1}^{\\prime}\\right), \\ldots,\\left(X_{m}^{\\prime}, \n",
        "Y_{m}^{\\prime}\\right)\\right\\} $ drawn from the same distribution to select \n",
        "the value of $k \\in \\{1, 3, 5, 7, 9\\}$ in the k-nearest neighbor rule (trained on the data $D_n$) \n",
        "using empirical risk minimization based on $ D_{m}^{\\prime}$ . Estimate the probability of error of \n",
        "this rule (using independent test data) and compare it to the probability of error of the \n",
        "best of these five classification rules. How large does m have to be to make sure that the \n",
        "data/based selection is close to optimal?\n",
        "### Theoretical Background: \n",
        "The nearest neighbor classification rule in a metric space $\\mathcal{X}$ is: \n",
        "$ g_n(x) =Y_{(1)}(x)$. Meaning the label of the with a specific distance measured \n",
        "$d(x,X_i)$ nearest point. For any distribution of $(X,Y)$, the asymptotic probability \n",
        "of error fo the nearest neighbor rule satisfies:\n",
        "$$ R^{*} \\leq R_{NN} = \\lim_{n \\rightarrow \\infty} \\mathbb{E}[R(g_n)] = 2 \\mathbb{E} [ \\eta(X)(1-\\eta(X))] \\leq 2 R^{*} (1-R^{*}) $$\n",
        "This implies that the NN-rule is consistent whenever the classes are separated, e.g. $R^{*}=0$. Additionally, the convergence of the NN-rule is correlated with the dimensions (negative) and the sample size (positive). The \\textbf{curse of dimensonality} says, that it gets harder to find a close point if $\\eta$ changes quickly around the decision boundary (0.5). This is shown on a general example of local averaging. \\\\\n",
        "For any odd k greater than one, the classification is a majority vote of the closest k points: \n",
        "$$ g_{n}(x)=\\left\\{\\begin{array}{ll} {0} & {\\text{ if } \\sum_{i=0}^{k} Y_{(i)} < \\frac{k}{2}}\\\\ {1} & {\\text{otherwise}}\\end{array}\\right. $$\n",
        "For the risk it is possible to derive the following bound: \n",
        "$$ R_{k-NN} \\leq R^{*}+\\frac{1}{\\sqrt{e K}}$$\n",
        "We also have that $R_{k-NN} \\rightarrow R^*$ as $k  \\rightarrow \\infty$ and as \n",
        "$n \\rightarrow \\infty$. Large k means we are taking the majority decision among many votes, \n",
        "making the decision more stable (low variance), but we take into account more far away neighbors \n",
        "(high bias).\n",
        "### Answer: \n",
        "CDF and PMF for $X \\sim U(0,1)$:\n",
        "$$ \\mathbf{P}\\{X \\leq x\\}=\\left\\{\\begin{array}{ll}{0} & {\\text { for } x<0} \\\\ {x} & {\\text { for } x \\in[0,1)} \\\\ {1} & {\\text { for } x \\geq 1}\\end{array}\\right. \\quad \\text{ and } \\quad \\mathbf{P}\\{X=x\\}=\\left\\{\\begin{array}{ll}{1} & {\\text { for } x \\in[0,1]} \\\\ {0} & {\\text { otherwise }}\\end{array}\\right. $$\n",
        "\n",
        "The following is true for the variable  $ Y \\sim B\\left(1, x^{(1)}\\right) $: \n",
        "\n",
        "$$ \\eta(x)=\\mathbf{P}\\{Y=1 | X=x\\}=x^{(1)} \\Longrightarrow g^{*}(x)=\\left\\{\\begin{array}{ll}{1} & {\\text { for } x^{(1)}>\\frac{1}{2}} \\\\ {0} & {\\text { otherwise }}\\end{array}\\right. $$\n",
        "\n",
        "From this we derive the Bayes risk: \n",
        "\n",
        "$$ \\begin{aligned} R^{*}=R\\left(g^{*}\\right) &=\\mathbb{E}[l(Y, g)) ]=P(Y=1) \\mathbb{I}_{g=0}+P(Y=0) \\mathbb{I}_{g=1} \\\\ &=\\int_{0}^{\\frac{1}{2}} \\eta(x) d x+\\int_{\\frac{1}{2}}^{1}(1-\\eta(x)) d x=\\int_{0}^{\\frac{1}{2}} x d x+\\int_{\\frac{1}{2}}^{1}(1-x) d x \\\\ &=\\left[\\frac{1}{2} x^{2}\\right]_{0}^{\\frac{1}{2}}+\\left[x-\\frac{1}{2} x^{2}\\right]_{\\frac{1}{2}}^{1}=\\frac{1}{8}+\\frac{1}{8}=\\frac{1}{4}=0.25 \\end{aligned} $$\n",
        "\n",
        "The measure $R^{*}$ does not depend on the number of dimensions. Then we can calculate the $R_{1-N N}$:\n",
        "$$ \\begin{aligned} R_{1-N N} &=2 \\mathbb{E}[\\eta(x)(1-\\eta(x))]=2 \\mathbb{E}[x \\cdot(1-x)] \\\\ &=2 \\int_{0}^{1}\\left(x-x^{2}\\right) \\cdot f(x) d x=2 \\int_{0}^{1} 1 \\cdot\\left(x-x^{2}\\right) d x \\\\ &=2 \\int_{0}^{1}\\left(x-x^{2}\\right) d x \\\\ &=2\\left[\\frac{1}{2} x^{2}-\\frac{1}{3} x^{3}\\right]_{0}^{1}=1-\\frac{2}{3}=\\frac{1}{3} \\approx 0.33 \\leq 2 R^{*}\\left(1-R^{*}\\right)=0.375 \\end{aligned} $$\n",
        "\n",
        "The measure $R_{1-N N}$ suffers from the curse of dimensionality because the distance of points increases exponentially with the dimensions, which implies that in order to have the nearest neighbor close we need a huge amount of points. The measure is only consistent in higher dimensions if the classes are well separated. Then we can calculate the $R_{3-N N}$:\n",
        "$$ \\begin{aligned} R_{3-N N} &=\\mathbb{E}[\\eta(x)(1-\\eta(x))]+4 \\mathbb{E}\\left[\\eta(x)^{2}(1-\\eta(x))^{2}\\right] \\\\ &=\\int_{0}^{1}\\left(x-x^{2}\\right) d x+4 \\int_{0}^{1} x^{2}-2 x^{3}+x^{4} d x \\\\ &=\\frac{1}{6}+4\\left[\\frac{1}{3} x^{3}-\\frac{2}{4} x^{4}+\\frac{1}{5} x^{5}\\right]_{0}^{1} \\\\ &=\\frac{1}{6}+\\frac{4}{3}-\\frac{8}{4}+\\frac{5}{5}=\\frac{5+40+24}{30}-2=\\frac{23}{10}-\\frac{20}{10}=\\frac{3}{10}=0.3 \\leq R_{1-N N} \\approx 0.33 \\end{aligned} $$\n",
        "\n",
        "The measure $R_{3-N N}$ suffers from the curse of dimensionality because the space gets sparser if more dimensions are added. \n",
        "To counteract one has to add an exponential number of datapoints to guarantee that the neighbors are sufficiently close/ similar. \n",
        "Therefore, local averaging in high dimensions does not work properly.\n",
        "For all simulations I average over 500 random datasets. The simulations proof the assumptions and calculations stated above. \n",
        "With a higher number of dimensions more datapoints are needed to converge to the\n",
        "analytically derived risks. The analysis also clearly shows that a higher number of neighbors (k) to locally\n",
        "average over minimizes the risk, which is no surprise as $R_{k-N N} \\stackrel{k \\rightarrow \\infty}{\\longrightarrow} R^{*}$. \n",
        "\n",
        "Empirics show that we could assume the 9-NN model as quasi-optimal as it outperforms the others. So we will use it as benchmark \n",
        "against the best of $k \\in \\{1, 3, 5, 7, 9\\}$ to see dependent on $D_m$ if and when the risks do converge. While fixing the number \n",
        "of observations and dimensions, we can clearly see that with larger $D_m$ the two series converge. It is also possible to \n",
        "analytically derive the bounding size of $D_m$ for a given $\\epsilon$ and $\\delta$ with the formula we have seen in class, but let’s focus \n",
        "on the empirics in this analysis. From the data and the chosen parameters we can assume that the data based selection rule \n",
        "is close to optimal for m lager than 5000. The second plot shows which rule has been chosen proportionally dependent on $D_m$. \n",
        "We can see that a higher $D_m$ makes a choice of the optimal classifier more likely.\n",
        "### Supporting Code & Plots:"
      ],
      "metadata": {}
    },
    {
      "cell_type": "code",
      "source": [
        "# Import packages\n",
        "import numpy as np\n",
        "import pandas as pd\n",
        "from sklearn.neighbors import KNeighborsClassifier\n",
        "import matplotlib.pyplot as plt"
      ],
      "outputs": [],
      "execution_count": 1,
      "metadata": {
        "collapsed": false,
        "outputHidden": false,
        "inputHidden": false
      }
    },
    {
      "cell_type": "code",
      "source": [
        "# Define parameters to loop over\n",
        "M = [50,100,250,500,750,1000,1250,1500,1750,2000,2250,2500,2750,3000,3250,3500,3750,4000,4250,4500,4750,5000]\n",
        "nh = [1,3,5,7,9]\n",
        "\n",
        "# Prepare empty results matrix\n",
        "results = pd.DataFrame(np.zeros(shape= (len(M) * 500,4)),columns=['M','random_model','random_risk','optimal_risk'])\n",
        "\n",
        "\n",
        "\n",
        "for m in range(0,len(M)):    \n",
        "    # Create datasets and do calculations\n",
        "    for l in range(0,500):\n",
        "        X = pd.DataFrame(np.random.uniform(0,1,size=(250, 2)))\n",
        "        Y = np.random.binomial(1, X[0])\n",
        "        X_m = pd.DataFrame(np.random.uniform(0,1,size=(M[m], 2)))\n",
        "        Y_m = np.random.binomial(1, X_m[0])\n",
        "        # Fit kNN rule and safe the risk\n",
        "        risk = []\n",
        "        for i in range(0,len(nh)):\n",
        "            model = KNeighborsClassifier(n_neighbors=nh[i])\n",
        "            model.fit(X,Y)\n",
        "            risk.append((1 - np.array(model.predict(X_m) == Y_m).mean()))\n",
        "        # Create new dataset\n",
        "        X = pd.DataFrame(np.random.uniform(0,1,size=(250, 2)))\n",
        "        Y = np.random.binomial(1, X[0])\n",
        "        X_m = pd.DataFrame(np.random.uniform(0,1,size=(M[m], 2)))\n",
        "        Y_m = np.random.binomial(1, X_m[0])\n",
        "        # Measure performance of the optimal model\n",
        "        model_opt = KNeighborsClassifier(n_neighbors=9)\n",
        "        model_opt.fit(X,Y)\n",
        "        # Measure performance of the random best model\n",
        "        model_ran = KNeighborsClassifier(n_neighbors=nh[risk.index(min(risk))])\n",
        "        model_ran.fit(X,Y)\n",
        "        # Store result\n",
        "        results.iloc[(500 * m + l),0] = M[m]\n",
        "        results.iloc[(500 * m + l),1] = str(nh[risk.index(min(risk))]) + \"-NN\"\n",
        "        results.iloc[(500 * m + l),2] = 1 - np.array(model_ran.predict(X_m) == Y_m).mean()\n",
        "        results.iloc[(500 * m + l),3] = 1 - np.array(model_opt.predict(X_m) == Y_m).mean()"
      ],
      "outputs": [],
      "execution_count": 2,
      "metadata": {
        "collapsed": false,
        "outputHidden": false,
        "inputHidden": false
      }
    },
    {
      "cell_type": "code",
      "source": [
        "# Claculate the ratios for each kNN\n",
        "ratios = pd.DataFrame(np.zeros(shape= (len(M),6)),columns=['M','share_9','share_7','share_5',\"share_3\",\"share_1\"])\n",
        "for m in range(0,len(M)):\n",
        "    X = list(results.iloc[(m*500):(m*500 +500),:][\"random_model\"])\n",
        "    ratios.iloc[m,0] = M[m]\n",
        "    ratios.iloc[m,1] = X.count(\"9-NN\")/500\n",
        "    ratios.iloc[m,2] = X.count(\"7-NN\")/500\n",
        "    ratios.iloc[m,3] = X.count(\"5-NN\")/500\n",
        "    ratios.iloc[m,4] = X.count(\"3-NN\")/500\n",
        "    ratios.iloc[m,5] = X.count(\"1-NN\")/500"
      ],
      "outputs": [],
      "execution_count": 5,
      "metadata": {
        "collapsed": false,
        "outputHidden": false,
        "inputHidden": false
      }
    },
    {
      "cell_type": "code",
      "source": [
        "plt.plot(ratios[\"M\"], ratios[\"share_1\"],\"r\", label=\"1-NN\")\n",
        "plt.plot(ratios[\"M\"], ratios[\"share_3\"],\"g\", label=\"3-NN\")\n",
        "plt.plot(ratios[\"M\"], ratios[\"share_5\"],\"b\", label=\"5-NN\")\n",
        "plt.plot(ratios[\"M\"], ratios[\"share_7\"],\"grey\", label=\"7-NN\")\n",
        "plt.plot(ratios[\"M\"], ratios[\"share_9\"],\"purple\", label=\"9-NN\")\n",
        "plt.ylabel('Share')\n",
        "plt.xlabel('M')\n",
        "plt.title('Shares of minimum Risk models (500 Datasets)')\n",
        "plt.grid(True)\n",
        "plt.legend(bbox_to_anchor=(1.05, 1), loc=2, borderaxespad=0.)\n",
        "plt.show()"
      ],
      "outputs": [
        {
          "output_type": "display_data",
          "data": {
            "text/plain": [
              "<Figure size 432x288 with 1 Axes>"
            ],
            "image/png": "[encoded data removed]"
          },
          "metadata": {}
        }
      ],
      "execution_count": 6,
      "metadata": {
        "collapsed": false,
        "outputHidden": false,
        "inputHidden": false
      }
    }
  ],
  "metadata": {
    "kernel_info": {
      "name": "python3"
    },
    "language_info": {
      "name": "python",
      "version": "3.6.5",
      "mimetype": "text/x-python",
      "codemirror_mode": {
        "name": "ipython",
        "version": 3
      },
      "pygments_lexer": "ipython3",
      "nbconvert_exporter": "python",
      "file_extension": ".py"
    },
    "kernelspec": {
      "name": "python3",
      "language": "python",
      "display_name": "Python 3"
    },
    "nteract": {
      "version": "0.13.0"
    }
  },
  "nbformat": 4,
  "nbformat_minor": 0
}